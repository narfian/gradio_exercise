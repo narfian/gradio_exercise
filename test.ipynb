{
 "cells": [
  {
   "cell_type": "code",
   "execution_count": 9,
   "metadata": {},
   "outputs": [],
   "source": [
    "import json\n",
    "\n",
    "# JSON 파일에서 설정 읽기\n",
    "with open('api_list/api_list.json', 'r') as json_file:\n",
    "    config = json.load(json_file)\n",
    "\n",
    "MODEL = \"PTU\"\n",
    "if config[MODEL][\"type\"] == \"AZURE\":\n",
    "    AZURE_OPENAI_ENDPOINT = config[MODEL][\"endpoint\"]\n",
    "    AZURE_OPENAI_KEY = config[MODEL][\"key\"]\n",
    "    API_VERSION = config[MODEL][\"version\"]\n",
    "elif config[MODEL][\"type\"] == \"OPENAI\":\n",
    "    OPENAI_ENDPOINT = config[MODEL][\"endpoint\"]\n",
    "    OPENAI_KEY = config[MODEL][\"key\"]\n",
    "    API_VERSION = config[MODEL][\"version\"]\n",
    "\n",
    "if config[MODEL][\"type\"] == \"AZURE\":\n",
    "    from openai import AzureOpenAI\n",
    "    client = AzureOpenAI(\n",
    "        azure_endpoint=AZURE_OPENAI_ENDPOINT,\n",
    "        api_key=AZURE_OPENAI_KEY,\n",
    "        api_version=API_VERSION,\n",
    "    )\n",
    "elif config[MODEL][\"type\"] == \"OPENAI\":\n",
    "    from openai import OpenAI\n",
    "    client = OpenAI(\n",
    "        base_url=OPENAI_ENDPOINT,\n",
    "        api_key=OPENAI_KEY,\n",
    "    )\n",
    "\n",
    "def infChat(system_p, user_p):\n",
    "    response = client.chat.completions.create(\n",
    "        model=\"lgcns-ptu-deployment\",\n",
    "        messages=[\n",
    "            {\"role\":\"user\", \"content\": user_p}\n",
    "        ]\n",
    "    )\n",
    "    return response.choices[0].message.content"
   ]
  },
  {
   "cell_type": "code",
   "execution_count": 7,
   "metadata": {},
   "outputs": [
    {
     "name": "stdout",
     "output_type": "stream",
     "text": [
      "생성형 인공지능은 언어, 이미지, 음악 등 어러 종류의 데이터를 생성할 수 있는 인공지능 기술을 말합니다. 주로 딥 러닝과 같은 기계 학습 기술이 사용되며, 생성 모델은 기존의 데이터를 학습하여 새로운 데이터를 생성합니다. 이런 기술은 텍스트 작성, 이미지 생성, 음곡 작성 등 다양한 분야에서 활용이 가능합니다.\n",
      "\n",
      "OpenAI의 ChatGPT는 생성형 인공지능 중 하나로, 기계가 텍스트 대화를 수행할 수 있도록 설계된 모델입니다. GPT는 'Generative Pretraining Transformer'의 약자로, 사람들의 대화 기록 등 대규모 텍스트 데이터를 학습하여 새로운 문장을 생성하고, 주어진 문맥에 따라 논리적으로 대화를 진행하는 능력을 가지고 있습니다. 다양한 영역에서 문의 대응, 정보 제공, 채팅 파트너로 활용될 수 있습니다.\n",
      "\n",
      "Anthropic Claude는 인공지능 연구와 개발을 주도하는 스타트업인 Anthropic에서 개발한 인공지능입니다. Anthropic는 인간 수준 이상의 인공지능을 만들어 그 효용성을 최대화하면서 법적, 보호적 안전 조치를 일찍 설계하고 구현하려는 목적으로 설립되었습니다. Claude는 이러한 목표를 달성하기 위해 개발된 인공지능으로, 아직 구체적인 세부사항은 공개되지 않았습니다.\n"
     ]
    }
   ],
   "source": [
    "system_p = \"너는 대학교 학생을 가르치는 교수야. 전문가에게 설명하듯 자세히 서술하지.\"\n",
    "user_p = \"튜링 테스트와 중국어 방에 대해 자세하게 알려줘\"\n",
    "user_p = \"생성형 인공지능과 OpenAI ChatGPT와 Anthropic Claude에 대해 자세히 서술해줘\"\n",
    "print(infChat(system_p, user_p))"
   ]
  },
  {
   "cell_type": "code",
   "execution_count": 1,
   "metadata": {},
   "outputs": [
    {
     "name": "stderr",
     "output_type": "stream",
     "text": [
      "/Users/narfian/workspace/env_gr/lib/python3.11/site-packages/tqdm/auto.py:21: TqdmWarning: IProgress not found. Please update jupyter and ipywidgets. See https://ipywidgets.readthedocs.io/en/stable/user_install.html\n",
      "  from .autonotebook import tqdm as notebook_tqdm\n"
     ]
    }
   ],
   "source": [
    "import gradio as gr"
   ]
  },
  {
   "cell_type": "code",
   "execution_count": null,
   "metadata": {},
   "outputs": [],
   "source": []
  }
 ],
 "metadata": {
  "kernelspec": {
   "display_name": "Python 3",
   "language": "python",
   "name": "python3"
  },
  "language_info": {
   "codemirror_mode": {
    "name": "ipython",
    "version": 3
   },
   "file_extension": ".py",
   "mimetype": "text/x-python",
   "name": "python",
   "nbconvert_exporter": "python",
   "pygments_lexer": "ipython3",
   "version": "3.11.3"
  }
 },
 "nbformat": 4,
 "nbformat_minor": 2
}
